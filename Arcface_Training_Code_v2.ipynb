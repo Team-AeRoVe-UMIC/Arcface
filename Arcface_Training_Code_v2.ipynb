{
  "nbformat": 4,
  "nbformat_minor": 5,
  "metadata": {
    "kernelspec": {
      "display_name": "Python 3",
      "language": "python",
      "name": "python3"
    },
    "language_info": {
      "codemirror_mode": {
        "name": "ipython",
        "version": 3
      },
      "file_extension": ".py",
      "mimetype": "text/x-python",
      "name": "python",
      "nbconvert_exporter": "python",
      "pygments_lexer": "ipython3",
      "version": "3.6.12"
    },
    "colab": {
      "name": "Arcface_Training_Code_v2.ipynb",
      "provenance": [],
      "collapsed_sections": []
    },
    "accelerator": "GPU"
  },
  "cells": [
    {
      "cell_type": "code",
      "metadata": {
        "id": "incomplete-estimate"
      },
      "source": [
        "import tensorflow as tf\n",
        "import math\n",
        "import time\n",
        "import numpy as np"
      ],
      "id": "incomplete-estimate",
      "execution_count": 1,
      "outputs": []
    },
    {
      "cell_type": "code",
      "metadata": {
        "id": "Oe6aDoIVoe_S"
      },
      "source": [
        "from IPython.display import clear_output\n",
        "import matplotlib.pyplot as plt"
      ],
      "id": "Oe6aDoIVoe_S",
      "execution_count": 2,
      "outputs": []
    },
    {
      "cell_type": "code",
      "metadata": {
        "colab": {
          "base_uri": "https://localhost:8080/"
        },
        "id": "5JGHxhN11ArQ",
        "outputId": "b981cc4d-b65a-4dee-f25d-e357b10e98a2"
      },
      "source": [
        "from google.colab import drive\n",
        "drive.mount('/content/drive')"
      ],
      "id": "5JGHxhN11ArQ",
      "execution_count": 3,
      "outputs": [
        {
          "output_type": "stream",
          "name": "stdout",
          "text": [
            "Mounted at /content/drive\n"
          ]
        }
      ]
    },
    {
      "cell_type": "code",
      "metadata": {
        "id": "GhoR8pEMuYZX"
      },
      "source": [
        "!cp /content/drive/MyDrive/Arcface/backbone_0.py .\n",
        "!cp /content/drive/MyDrive/Arcface/hypar.py .\n",
        "!cp /content/drive/MyDrive/Arcface/network_16.py .\n",
        "import hypar\n",
        "import backbone_0 as nn\n",
        "import network_16 as net"
      ],
      "id": "GhoR8pEMuYZX",
      "execution_count": 4,
      "outputs": []
    },
    {
      "cell_type": "code",
      "metadata": {
        "id": "damaged-exploration"
      },
      "source": [
        "physical_devices = tf.config.experimental.list_physical_devices('GPU')\n",
        "assert len(physical_devices) > 0, \"Not enough GPU hardware devices available\"\n",
        "config = tf.config.experimental.set_memory_growth(physical_devices[0], True)"
      ],
      "id": "damaged-exploration",
      "execution_count": 5,
      "outputs": []
    },
    {
      "cell_type": "code",
      "metadata": {
        "colab": {
          "base_uri": "https://localhost:8080/"
        },
        "id": "H89tHgtiE8X3",
        "outputId": "f61936cb-96f0-47a4-9d5f-3749a23013eb"
      },
      "source": [
        "physical_devices"
      ],
      "id": "H89tHgtiE8X3",
      "execution_count": 6,
      "outputs": [
        {
          "output_type": "execute_result",
          "data": {
            "text/plain": [
              "[PhysicalDevice(name='/physical_device:GPU:0', device_type='GPU')]"
            ]
          },
          "metadata": {},
          "execution_count": 6
        }
      ]
    },
    {
      "cell_type": "code",
      "metadata": {
        "id": "assured-short"
      },
      "source": [
        "X = np.load('/content/drive/MyDrive/Arcface/x_train.npy', allow_pickle=True)\n",
        "Y = np.load('/content/drive/MyDrive/Arcface/y_train.npy', allow_pickle=True)"
      ],
      "id": "assured-short",
      "execution_count": 7,
      "outputs": []
    },
    {
      "cell_type": "code",
      "metadata": {
        "id": "configured-period",
        "colab": {
          "base_uri": "https://localhost:8080/"
        },
        "outputId": "60ba17c9-bbba-402b-92a7-610e624b7589"
      },
      "source": [
        "X = np.array(X, dtype='float32')\n",
        "Y = np.array(Y, dtype='int32')\n",
        "Y = np.reshape(Y, Y.shape[0])\n",
        "print(\"X shape:\",X.shape,\"Y shape:\",Y.shape) \n",
        "X = net.Resnet_preprocess(X)\n",
        "images = X\n",
        "labels = Y\n",
        "\n",
        "# Prepare the training dataset.\n",
        "train_dataset = tf.data.Dataset.from_tensor_slices((images, labels))\n",
        "train_dataset = train_dataset.shuffle(buffer_size=1024).batch(hypar.batch_size)\n",
        "print(\"Training dataset ready!\")"
      ],
      "id": "configured-period",
      "execution_count": 8,
      "outputs": [
        {
          "output_type": "stream",
          "name": "stdout",
          "text": [
            "X shape: (1476, 112, 112, 3) Y shape: (1476,)\n",
            "Training dataset ready!\n"
          ]
        }
      ]
    },
    {
      "cell_type": "code",
      "metadata": {
        "id": "bigger-century"
      },
      "source": [
        "num_classes = hypar.num_classes #number of people in the dataset\n",
        "\n",
        "#feature vector dimension = (512) [comes from the resnet model]\n",
        "\n",
        "class Arcface_Layer(tf.keras.layers.Layer):                                     # Arcface layer definition\n",
        "    def __init__(self, num_outputs = num_classes, s=64., m=0.5):                 # s is scale factor, m is the margin to be added to the angle 'theta'\n",
        "        self.output_dim = num_outputs\n",
        "        self.s = s\n",
        "        self.m = m\n",
        "        super(Arcface_Layer, self).__init__()\n",
        "\n",
        "    def build(self, input_shape):\n",
        "\n",
        "        self.kernel = self.add_weight(name='weight',\n",
        "                                          shape=(input_shape[-1],self.output_dim),\n",
        "                                          initializer='glorot_uniform',\n",
        "                                          regularizer=tf.keras.regularizers.l2(l=5e-4),\n",
        "                                          trainable=True)\n",
        "        super(Arcface_Layer, self).build(input_shape)\n",
        "\n",
        "\n",
        "    def call(self, embedding, labels):\n",
        "        cos_m = math.cos(self.m)\n",
        "        sin_m = math.sin(self.m)\n",
        "        mm = sin_m * self.m  # issue 1\n",
        "        threshold = math.cos(math.pi - self.m)\n",
        "        # inputs and weights norm\n",
        "        embedding_norm = tf.norm(embedding, axis=1, keepdims=True)\n",
        "        embedding = embedding / embedding_norm\n",
        "        weights_norm = tf.norm(self.kernel, axis=0, keepdims=True)\n",
        "        weights = self.kernel / weights_norm\n",
        "        # cos(theta+m)\n",
        "        cos_t = tf.matmul(embedding, weights, name='cos_t')\n",
        "        cos_t2 = tf.square(cos_t, name='cos_2')\n",
        "        sin_t2 = tf.subtract(1., cos_t2, name='sin_2')\n",
        "        sin_t = tf.sqrt(sin_t2, name='sin_t')\n",
        "        cos_mt = self.s * tf.subtract(tf.multiply(cos_t, cos_m),\n",
        "                                      tf.multiply(sin_t, sin_m), name='cos_mt')\n",
        "\n",
        "        # this condition controls the theta+m should in range [0, pi]\n",
        "        #      0<=theta+m<=pi\n",
        "        #     -m<=theta<=pi-m\n",
        "        cond_v = cos_t - threshold\n",
        "        cond = tf.cast(tf.nn.relu(cond_v, name='if_else'), dtype=tf.bool)\n",
        "\n",
        "        keep_val = self.s * (cos_t - mm)\n",
        "        cos_mt_temp = tf.where(cond, cos_mt, keep_val)\n",
        "\n",
        "        mask = tf.one_hot(labels, depth=self.output_dim, name='one_hot_mask')\n",
        "        # mask = tf.squeeze(mask, 1)\n",
        "        inv_mask = tf.subtract(1., mask)\n",
        "\n",
        "        s_cos_t = tf.multiply(self.s, cos_t, name='scalar_cos_t')\n",
        "\n",
        "        output = tf.add(tf.multiply(s_cos_t, inv_mask), tf.multiply(cos_mt_temp, mask), name='arcface_loss_output')\n",
        "\n",
        "        return output"
      ],
      "id": "bigger-century",
      "execution_count": 9,
      "outputs": []
    },
    {
      "cell_type": "code",
      "metadata": {
        "id": "portable-shade",
        "colab": {
          "base_uri": "https://localhost:8080/"
        },
        "outputId": "e05d9dd1-6994-480d-971f-275cad198d29"
      },
      "source": [
        "class train_model(tf.keras.Model):\n",
        "    def __init__(self):\n",
        "        super(train_model, self).__init__()\n",
        "        #self.resnet = net.Resnet_nn()\n",
        "        self.resnet = net.Resnet()\n",
        "        self.arcface = Arcface_Layer()\n",
        "\n",
        "    def call(self, x, y):\n",
        "        x = self.resnet(x)\n",
        "        return self.arcface(x, y)\n",
        "\n",
        "# Instantiate a loss function.\n",
        "def loss_fxn(logits,labels):\n",
        "    loss_fn = tf.reduce_mean(tf.nn.sparse_softmax_cross_entropy_with_logits(logits=logits, labels=labels))\n",
        "    return loss_fn\n",
        "    \n",
        "# Instantiate an optimizer to train the model.\n",
        "learning_rate = 0.0005\n",
        "optimizer = tf.keras.optimizers.SGD(learning_rate=learning_rate, momentum=0.9, nesterov=False)\n",
        "#optimizer = tf.keras.optimizers.Adam(learning_rate=0.00001, beta_1=0.9, beta_2=0.999, epsilon=1e-07, amsgrad=False,name='Adam')\n",
        "\n",
        "model = train_model()\n",
        "\n",
        "@tf.function\n",
        "def train_step(images, labels):\n",
        "    with tf.GradientTape() as tape:\n",
        "        logits = model(images,labels)\n",
        "        pred = tf.nn.softmax(logits)\n",
        "        #inf_loss = loss_fxn(pred,labels)\n",
        "        inf_loss = loss_fxn(logits,labels)\n",
        "        loss = inf_loss\n",
        "    gradients = tape.gradient(loss, model.trainable_variables)\n",
        "    optimizer.apply_gradients(zip(gradients, model.trainable_variables))\n",
        "    train_loss = tf.reduce_mean(loss)\n",
        "    accuracy = tf.reduce_mean(tf.cast(tf.equal(tf.argmax(pred, axis=1, output_type=tf.dtypes.int32), tf.cast(labels,dtype = tf.int32)), dtype=tf.float32))\n",
        "    inference_loss = tf.reduce_mean(inf_loss)\n",
        "    regularization_loss = 0\n",
        "    return accuracy, train_loss, inference_loss, regularization_loss"
      ],
      "id": "portable-shade",
      "execution_count": 10,
      "outputs": [
        {
          "output_type": "stream",
          "name": "stdout",
          "text": [
            "Downloading data from https://storage.googleapis.com/tensorflow/keras-applications/resnet/resnet50_weights_tf_dim_ordering_tf_kernels_notop.h5\n",
            "94773248/94765736 [==============================] - 1s 0us/step\n",
            "94781440/94765736 [==============================] - 1s 0us/step\n"
          ]
        }
      ]
    },
    {
      "cell_type": "code",
      "metadata": {
        "id": "aHdyzzFC_rq4",
        "colab": {
          "base_uri": "https://localhost:8080/"
        },
        "outputId": "7fae1658-59f1-4fd9-afc3-0e11fbedbf29"
      },
      "source": [
        "epochs = 20\n",
        "reg_coef = 1.0\n",
        "\n",
        "file_name = '/content/drive/MyDrive/Arcface/checkpoint/try4_16/model_weights_'\n",
        "file_number = 10\n",
        "file_name = file_name + str(file_number*epochs)+ '_epochs'\n",
        "model = tf.keras.models.load_model(file_name)"
      ],
      "id": "aHdyzzFC_rq4",
      "execution_count": null,
      "outputs": [
        {
          "output_type": "stream",
          "name": "stdout",
          "text": [
            "WARNING:tensorflow:No training configuration found in save file, so the model was *not* compiled. Compile it manually.\n"
          ]
        }
      ]
    },
    {
      "cell_type": "code",
      "metadata": {
        "colab": {
          "base_uri": "https://localhost:8080/"
        },
        "id": "K_UtYDB612eO",
        "outputId": "28016cb5-5601-4482-e0f5-87fd7c785c18"
      },
      "source": [
        "print(file_name)"
      ],
      "id": "K_UtYDB612eO",
      "execution_count": null,
      "outputs": [
        {
          "output_type": "stream",
          "name": "stdout",
          "text": [
            "/content/drive/MyDrive/Arcface/checkpoint/try4_16/model_weights_200_epochs\n"
          ]
        }
      ]
    },
    {
      "cell_type": "code",
      "metadata": {
        "id": "angry-currency",
        "colab": {
          "base_uri": "https://localhost:8080/"
        },
        "outputId": "8ba8ee20-ca87-4718-daec-ce5f2a2697df"
      },
      "source": [
        "random_out = model(X[0:3,:,:,:],Y[0:3])\n",
        "loss_log = []\n",
        "\n",
        "epochs = 50\n",
        "reg_coef = 1.0\n",
        "file_number = 5\n",
        "\n",
        "for save_wt in range (0, 5):\n",
        "  for epoch in range(epochs):\n",
        "      print(\"\\nStart of epoch %d\" % (epoch,))\n",
        "      start_time = time.time()\n",
        "\n",
        "      # Iterate over the batches of the dataset.\n",
        "      for step, (x_batch_train, y_batch_train) in enumerate(train_dataset):\n",
        "          accuracy, train_loss, inference_loss, regularization_loss = train_step(x_batch_train, y_batch_train)\n",
        "          if step % 20 == 0:\n",
        "            loss_log.append(train_loss)\n",
        "            print(\"Training loss (for one batch) at step %d: %.4f\"% (step, float(train_loss)))\n",
        "      \n",
        "  file_number += 1\n",
        "  file_name = '/content/drive/MyDrive/Arcface/checkpoint/try5_SGD_16/model_weights_'\n",
        "  file_name = file_name + str(file_number*epochs)+ '_epochs'\n",
        "  model.save(file_name)"
      ],
      "id": "angry-currency",
      "execution_count": null,
      "outputs": [
        {
          "output_type": "stream",
          "name": "stdout",
          "text": [
            "\n",
            "Start of epoch 0\n",
            "Training loss (for one batch) at step 0: 19.3352\n",
            "Training loss (for one batch) at step 20: 20.1776\n",
            "Training loss (for one batch) at step 40: 19.2703\n",
            "Training loss (for one batch) at step 60: 19.6231\n",
            "Training loss (for one batch) at step 80: 20.3035\n",
            "\n",
            "Start of epoch 1\n",
            "Training loss (for one batch) at step 0: 18.2051\n",
            "Training loss (for one batch) at step 20: 19.0149\n",
            "Training loss (for one batch) at step 40: 19.2837\n",
            "Training loss (for one batch) at step 60: 19.2879\n",
            "Training loss (for one batch) at step 80: 20.3084\n",
            "\n",
            "Start of epoch 2\n",
            "Training loss (for one batch) at step 0: 19.0954\n",
            "Training loss (for one batch) at step 20: 19.3294\n",
            "Training loss (for one batch) at step 40: 19.1632\n",
            "Training loss (for one batch) at step 60: 18.6725\n",
            "Training loss (for one batch) at step 80: 19.5484\n",
            "\n",
            "Start of epoch 3\n",
            "Training loss (for one batch) at step 0: 19.6071\n",
            "Training loss (for one batch) at step 20: 19.5735\n",
            "Training loss (for one batch) at step 40: 20.1970\n",
            "Training loss (for one batch) at step 60: 19.9229\n",
            "Training loss (for one batch) at step 80: 19.4287\n",
            "\n",
            "Start of epoch 4\n",
            "Training loss (for one batch) at step 0: 18.1517\n",
            "Training loss (for one batch) at step 20: 19.2645\n",
            "Training loss (for one batch) at step 40: 19.8673\n",
            "Training loss (for one batch) at step 60: 20.3284\n",
            "Training loss (for one batch) at step 80: 19.3553\n",
            "\n",
            "Start of epoch 5\n",
            "Training loss (for one batch) at step 0: 19.6759\n",
            "Training loss (for one batch) at step 20: 18.5631\n",
            "Training loss (for one batch) at step 40: 18.8899\n",
            "Training loss (for one batch) at step 60: 19.1641\n",
            "Training loss (for one batch) at step 80: 20.3346\n",
            "\n",
            "Start of epoch 6\n",
            "Training loss (for one batch) at step 0: 19.4827\n",
            "Training loss (for one batch) at step 20: 18.7820\n"
          ]
        }
      ]
    },
    {
      "cell_type": "code",
      "metadata": {
        "id": "dkn-YrGqdcJt"
      },
      "source": [
        "loss_log_data = np.array(loss_log)\n",
        "np.save('/content/drive/MyDrive/Arcface/checkpoint/try5_SGD_16/loss_log_1.npy', loss_log_data)"
      ],
      "id": "dkn-YrGqdcJt",
      "execution_count": null,
      "outputs": []
    },
    {
      "cell_type": "code",
      "metadata": {
        "id": "V0C7irVSe2Wc",
        "colab": {
          "base_uri": "https://localhost:8080/"
        },
        "outputId": "994f4cd2-3b01-4ae1-9d8b-8bcf53fdc165"
      },
      "source": [
        "test_model = model.resnet\n",
        "result = test_model.predict(X)\n",
        "result.shape"
      ],
      "id": "V0C7irVSe2Wc",
      "execution_count": null,
      "outputs": [
        {
          "output_type": "stream",
          "name": "stderr",
          "text": [
            "Exception ignored in: <function IteratorResourceDeleter.__del__ at 0x7f3305652ef0>\n",
            "Traceback (most recent call last):\n",
            "  File \"/usr/local/lib/python3.7/dist-packages/tensorflow/python/data/ops/iterator_ops.py\", line 546, in __del__\n",
            "    handle=self._handle, deleter=self._deleter)\n",
            "  File \"/usr/local/lib/python3.7/dist-packages/tensorflow/python/ops/gen_dataset_ops.py\", line 1264, in delete_iterator\n",
            "    _ctx, \"DeleteIterator\", name, handle, deleter)\n",
            "KeyboardInterrupt: \n"
          ]
        },
        {
          "output_type": "execute_result",
          "data": {
            "text/plain": [
              "(1476, 512)"
            ]
          },
          "metadata": {},
          "execution_count": 16
        }
      ]
    },
    {
      "cell_type": "code",
      "metadata": {
        "id": "1-DPkdau5L3q"
      },
      "source": [
        "index = []\n",
        "for i in range (0,1470):\n",
        "    if Y[i] == 25:\n",
        "        index.append(i)"
      ],
      "id": "1-DPkdau5L3q",
      "execution_count": null,
      "outputs": []
    },
    {
      "cell_type": "code",
      "metadata": {
        "id": "L4mJP43S5kg8"
      },
      "source": [
        "a = np.dot(result[877,:], np.array(result[1308,:]).T)\n",
        "print(a)"
      ],
      "id": "L4mJP43S5kg8",
      "execution_count": null,
      "outputs": []
    },
    {
      "cell_type": "code",
      "metadata": {
        "id": "o9hXk2dAPN79"
      },
      "source": [
        "from sklearn.preprocessing import normalize\n",
        "results = normalize(result, axis = 0)\n",
        "results.shape"
      ],
      "id": "o9hXk2dAPN79",
      "execution_count": null,
      "outputs": []
    },
    {
      "cell_type": "code",
      "metadata": {
        "id": "OXbmaykCSnPV"
      },
      "source": [
        "model.arcface.get_weights()"
      ],
      "id": "OXbmaykCSnPV",
      "execution_count": null,
      "outputs": []
    },
    {
      "cell_type": "code",
      "metadata": {
        "id": "sWhKJMGvFVlg"
      },
      "source": [
        ""
      ],
      "id": "sWhKJMGvFVlg",
      "execution_count": null,
      "outputs": []
    }
  ]
}