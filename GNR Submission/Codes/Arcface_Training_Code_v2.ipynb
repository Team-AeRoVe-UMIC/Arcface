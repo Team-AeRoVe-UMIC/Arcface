{
  "cells": [
    {
      "cell_type": "code",
      "execution_count": 1,
      "id": "incomplete-estimate",
      "metadata": {
        "id": "incomplete-estimate"
      },
      "outputs": [],
      "source": [
        "import tensorflow as tf\n",
        "import math\n",
        "import time\n",
        "import numpy as np"
      ]
    },
    {
      "cell_type": "code",
      "execution_count": 2,
      "id": "Oe6aDoIVoe_S",
      "metadata": {
        "id": "Oe6aDoIVoe_S"
      },
      "outputs": [],
      "source": [
        "from IPython.display import clear_output\n",
        "import matplotlib.pyplot as plt"
      ]
    },
    {
      "cell_type": "code",
      "execution_count": 4,
      "id": "GhoR8pEMuYZX",
      "metadata": {
        "id": "GhoR8pEMuYZX"
      },
      "outputs": [],
      "source": [
        "import hypar\n",
        "import backbone_0 as nn\n",
        "import network as net"
      ]
    },
    {
      "cell_type": "code",
      "execution_count": 12,
      "id": "assured-short",
      "metadata": {
        "id": "assured-short"
      },
      "outputs": [],
      "source": [
        "X = np.load('/datasets/x_train.npy', allow_pickle=True)\n",
        "Y = np.load('/datasets/y_train.npy', allow_pickle=True)"
      ]
    },
    {
      "cell_type": "code",
      "execution_count": 13,
      "id": "configured-period",
      "metadata": {
        "colab": {
          "base_uri": "https://localhost:8080/"
        },
        "id": "configured-period",
        "outputId": "6141178b-b619-4367-cd71-c3a16c6a3f1d"
      },
      "outputs": [
        {
          "name": "stdout",
          "output_type": "stream",
          "text": [
            "X shape: (1476, 112, 112, 3) Y shape: (1476,)\n",
            "Training dataset ready!\n"
          ]
        }
      ],
      "source": [
        "X = np.array(X, dtype='float32')\n",
        "Y = np.array(Y, dtype='int32')\n",
        "Y = np.reshape(Y, Y.shape[0])\n",
        "print(\"X shape:\",X.shape,\"Y shape:\",Y.shape) \n",
        "X = net.Resnet_preprocess(X)\n",
        "images = X\n",
        "labels = Y\n",
        "hypar.batch_size = 64\n",
        "# Prepare the training dataset.\n",
        "train_dataset = tf.data.Dataset.from_tensor_slices((images, labels))\n",
        "train_dataset = train_dataset.shuffle(buffer_size=1024).batch(hypar.batch_size)\n",
        "print(\"Training dataset ready!\")"
      ]
    },
    {
      "cell_type": "code",
      "execution_count": 9,
      "id": "bigger-century",
      "metadata": {
        "id": "bigger-century"
      },
      "outputs": [],
      "source": [
        "num_classes = hypar.num_classes #number of people in the dataset\n",
        "\n",
        "class Arcface_Layer(tf.keras.layers.Layer):                                     # Arcface layer definition\n",
        "    def __init__(self, num_outputs = num_classes, s=64., m=0.5):                 # s is scale factor, m is the margin to be added to the angle 'theta'\n",
        "        self.output_dim = num_outputs\n",
        "        self.s = s\n",
        "        self.m = m\n",
        "        super(Arcface_Layer, self).__init__()\n",
        "\n",
        "    def build(self, input_shape):\n",
        "\n",
        "        self.kernel = self.add_weight(name='weight',\n",
        "                                          shape=(input_shape[-1],self.output_dim),\n",
        "                                          initializer='glorot_uniform',\n",
        "                                          regularizer=tf.keras.regularizers.l2(l=5e-4),\n",
        "                                          trainable=True)\n",
        "        super(Arcface_Layer, self).build(input_shape)\n",
        "\n",
        "\n",
        "    def call(self, embedding, labels):\n",
        "        cos_m = math.cos(self.m)\n",
        "        sin_m = math.sin(self.m)\n",
        "        mm = sin_m * self.m  # issue 1\n",
        "        threshold = math.cos(math.pi - self.m)\n",
        "        # inputs and weights norm\n",
        "        embedding_norm = tf.norm(embedding, axis=1, keepdims=True)\n",
        "        embedding = embedding / embedding_norm\n",
        "        weights_norm = tf.norm(self.kernel, axis=0, keepdims=True)\n",
        "        weights = self.kernel / weights_norm\n",
        "        # cos(theta+m)\n",
        "        cos_t = tf.matmul(embedding, weights, name='cos_t')\n",
        "        cos_t2 = tf.square(cos_t, name='cos_2')\n",
        "        sin_t2 = tf.subtract(1., cos_t2, name='sin_2')\n",
        "        sin_t = tf.sqrt(sin_t2, name='sin_t')\n",
        "        cos_mt = self.s * tf.subtract(tf.multiply(cos_t, cos_m),\n",
        "                                      tf.multiply(sin_t, sin_m), name='cos_mt')\n",
        "\n",
        "        # this condition controls the theta+m should in range [0, pi]\n",
        "        #      0<=theta+m<=pi\n",
        "        #     -m<=theta<=pi-m\n",
        "        cond_v = cos_t - threshold\n",
        "        cond = tf.cast(tf.nn.relu(cond_v, name='if_else'), dtype=tf.bool)\n",
        "\n",
        "        keep_val = self.s * (cos_t - mm)\n",
        "        cos_mt_temp = tf.where(cond, cos_mt, keep_val)\n",
        "\n",
        "        mask = tf.one_hot(labels, depth=self.output_dim, name='one_hot_mask')\n",
        "        # mask = tf.squeeze(mask, 1)\n",
        "        inv_mask = tf.subtract(1., mask)\n",
        "\n",
        "        s_cos_t = tf.multiply(self.s, cos_t, name='scalar_cos_t')\n",
        "\n",
        "        output = tf.add(tf.multiply(s_cos_t, inv_mask), tf.multiply(cos_mt_temp, mask), name='arcface_loss_output')\n",
        "\n",
        "        return output"
      ]
    },
    {
      "cell_type": "code",
      "execution_count": 10,
      "id": "portable-shade",
      "metadata": {
        "colab": {
          "base_uri": "https://localhost:8080/"
        },
        "id": "portable-shade",
        "outputId": "fa84ffe6-fc74-44cb-8d38-d793aa377d12"
      },
      "outputs": [
        {
          "name": "stdout",
          "output_type": "stream",
          "text": [
            "Downloading data from https://storage.googleapis.com/tensorflow/keras-applications/resnet/resnet50_weights_tf_dim_ordering_tf_kernels_notop.h5\n",
            "94773248/94765736 [==============================] - 1s 0us/step\n",
            "94781440/94765736 [==============================] - 1s 0us/step\n"
          ]
        }
      ],
      "source": [
        "class train_model(tf.keras.Model):\n",
        "    def __init__(self):\n",
        "        super(train_model, self).__init__()\n",
        "        #self.resnet = net.Resnet_nn()\n",
        "        self.resnet = net.Resnet()\n",
        "        self.arcface = Arcface_Layer()\n",
        "\n",
        "    def call(self, x, y):\n",
        "        x = self.resnet(x)\n",
        "        return self.arcface(x, y)\n",
        "\n",
        "# Instantiate a loss function.\n",
        "def loss_fxn(logits,labels):\n",
        "    loss_fn = tf.reduce_mean(tf.nn.sparse_softmax_cross_entropy_with_logits(logits=logits, labels=labels))\n",
        "    return loss_fn\n",
        "    \n",
        "# Instantiate an optimizer to train the model.\n",
        "learning_rate = 0.0005\n",
        "#optimizer = tf.keras.optimizers.SGD(learning_rate=learning_rate, momentum=0.9, nesterov=False)\n",
        "optimizer = tf.keras.optimizers.Adam(learning_rate=learning_rate, beta_1=0.9, beta_2=0.999, epsilon=1e-07, amsgrad=False,name='Adam')\n",
        "\n",
        "model = train_model()\n",
        "\n",
        "@tf.function\n",
        "def train_step(images, labels, regCoef):\n",
        "    with tf.GradientTape() as tape:\n",
        "        logits = model(images,labels)\n",
        "        pred = tf.nn.softmax(logits)\n",
        "        #inf_loss = loss_fxn(pred,labels)\n",
        "        inf_loss = loss_fxn(logits,labels)\n",
        "        reg_loss = tf.add_n(model.losses)\n",
        "        loss = inf_loss + reg_loss * regCoef\n",
        "    gradients = tape.gradient(loss, model.trainable_variables)\n",
        "    optimizer.apply_gradients(zip(gradients, model.trainable_variables))\n",
        "    train_loss = tf.reduce_mean(loss)\n",
        "    accuracy = tf.reduce_mean(tf.cast(tf.equal(tf.argmax(pred, axis=1, output_type=tf.dtypes.int32), tf.cast(labels,dtype = tf.int32)), dtype=tf.float32))\n",
        "    inference_loss = tf.reduce_mean(inf_loss)\n",
        "    regularization_loss = tf.reduce_mean(reg_loss)\n",
        "    return accuracy, train_loss, inference_loss, regularization_loss"
      ]
    },
    {
      "cell_type": "code",
      "execution_count": null,
      "id": "e03a891e",
      "metadata": {},
      "outputs": [],
      "source": [
        "loss_log = []\n",
        "\n",
        "epochs = 50\n",
        "reg_coef = 1.0\n",
        "file_number = 1\n",
        "\n",
        "for save_wt in range (0, 2):\n",
        "  for epoch in range(epochs):\n",
        "      print(\"\\nStart of epoch %d\" % (epoch,))\n",
        "      start_time = time.time()\n",
        "\n",
        "      # Iterate over the batches of the dataset.\n",
        "      for step, (x_batch_train, y_batch_train) in enumerate(train_dataset):\n",
        "          accuracy, train_loss, inference_loss, regularization_loss = train_step(x_batch_train, y_batch_train,reg_coef)\n",
        "          if step % 20 == 0:\n",
        "            loss_log.append(train_loss)\n",
        "            template = 'Epoch {}, Step {}, Loss: {}, Reg loss: {}, Accuracy: {}'\n",
        "            print(template.format(epoch + 1, step,\n",
        "                                  '%.5f' % (inference_loss),\n",
        "                                  '%.5f' % (regularization_loss),\n",
        "                                  '%.5f' % (accuracy)))\n",
        "      \n",
        "  file_number += 1\n",
        "  file_name = 'model_weights_'\n",
        "  file_name = file_name + str(file_number*epochs)+ '_epochs'\n",
        "  model.save(file_name)"
      ]
    }
  ],
  "metadata": {
    "accelerator": "GPU",
    "colab": {
      "collapsed_sections": [],
      "name": "Arcface_Training_Code_v2.ipynb",
      "provenance": []
    },
    "kernelspec": {
      "display_name": "Python 3",
      "language": "python",
      "name": "python3"
    },
    "language_info": {
      "codemirror_mode": {
        "name": "ipython",
        "version": 3
      },
      "file_extension": ".py",
      "mimetype": "text/x-python",
      "name": "python",
      "nbconvert_exporter": "python",
      "pygments_lexer": "ipython3",
      "version": "3.6.12"
    }
  },
  "nbformat": 4,
  "nbformat_minor": 5
}
