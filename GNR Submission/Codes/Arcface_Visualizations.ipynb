{
  "cells": [
    {
      "cell_type": "markdown",
      "metadata": {
        "id": "OZ7mCZEiXkX_"
      },
      "source": [
        "#Initialization"
      ]
    },
    {
      "cell_type": "code",
      "execution_count": 1,
      "metadata": {
        "id": "h3rpoSSHC5h-"
      },
      "outputs": [],
      "source": [
        "import tensorflow as tf\n",
        "import numpy as np\n",
        "import matplotlib.pyplot as plt\n",
        "import pandas as pd\n",
        "import random as rnd\n",
        "from sklearn.decomposition import PCA\n",
        "from sklearn.preprocessing import StandardScaler\n",
        "from sklearn.preprocessing import normalize\n",
        "import cv2\n",
        "import pickle\n",
        "%matplotlib inline\n",
        "import hypar\n",
        "import backbone_0 as nn\n",
        "import network_16 as net"
      ]
    },
    {
      "cell_type": "markdown",
      "metadata": {
        "id": "y04fJMAznlWX"
      },
      "source": [
        "#Helper Functions"
      ]
    },
    {
      "cell_type": "code",
      "execution_count": 3,
      "metadata": {
        "id": "cxnMASIgnoWe"
      },
      "outputs": [],
      "source": [
        "def get_embeddings(input_imgs,model):\n",
        "  test_model = model.resnet\n",
        "  embeddings = test_model.predict(input_imgs)\n",
        "  print(embeddings.shape)\n",
        "  return embeddings"
      ]
    },
    {
      "cell_type": "code",
      "execution_count": 4,
      "metadata": {
        "id": "S_TyPJC4nsNS"
      },
      "outputs": [],
      "source": [
        "def get_distance(emb1,emb2):\n",
        "  \"\"\"\n",
        "  emb1 & emb2: are both 512 dimensional vectors from the trained resnet model\n",
        "\n",
        "  get_distance: returns dot_prod,cosine_distance,euclidean_distance\n",
        "  Check Out \"https://github.com/zestyoreo/Arcface/blob/main/get_distance()_test.ipynb\" for clarity\n",
        "  \"\"\"\n",
        "  dot_prod = np.dot(emb1,emb2.T)\n",
        "\n",
        "  a = np.matmul(np.transpose(emb1), emb2)\n",
        "  b = np.sum(np.multiply(emb1, emb1))\n",
        "  c = np.sum(np.multiply(emb2, emb2))\n",
        "  cosine_distance = 1 - (a / (np.sqrt(b) * np.sqrt(c)))\n",
        "\n",
        "  euclidean_distance = emb1 - emb2\n",
        "  euclidean_distance = np.sum(np.multiply(euclidean_distance, euclidean_distance))\n",
        "  euclidean_distance = np.sqrt(euclidean_distance)\n",
        "\n",
        "  return dot_prod,cosine_distance,euclidean_distance"
      ]
    },
    {
      "cell_type": "code",
      "execution_count": 5,
      "metadata": {
        "id": "72Zbsavjns0E"
      },
      "outputs": [],
      "source": [
        "def calculate_threshold(X,Y,model,nor,epochs):\n",
        "  index = [None] * X.shape[0]\n",
        "\n",
        "  #getting and storing embeddings\n",
        "  embeddings = get_embeddings(X,model)\n",
        "  file_name = \"threshold\\ and\\ distances/train_data_embeddings_\"+str(epochs)+\"model.npy\"\n",
        "  if nor==True:\n",
        "    embeddings = normalize(embeddings, axis = 0)\n",
        "    file_name = \"threshold\\ and\\ distances/train_data_normalized_embeddings_\"+str(epochs)+\"model.npy\"\n",
        "  emb = np.array(embeddings)\n",
        "  np.save(file_name,emb)\n",
        "\n",
        "  same_person_distance = []\n",
        "  same_person_cosine_distance = []\n",
        "  same_person_euclidean_distance = []\n",
        "  for clas in range(hypar.num_classes):\n",
        "    index[clas] = []\n",
        "    for i in range (0,X.shape[0]):\n",
        "      if Y[i] == clas:\n",
        "        index[clas].append(i)\n",
        "    for i in range(len(index[clas])):\n",
        "      i1=index[clas][i]\n",
        "      for j in range(i+1,len(index[clas])):\n",
        "        j2=index[clas][j]\n",
        "        distance,cosine_distance,euclidean_distance = get_distance(embeddings[i1],embeddings[j2])\n",
        "        same_person_distance.append(distance)\n",
        "        same_person_cosine_distance.append(cosine_distance)\n",
        "        same_person_euclidean_distance.append(euclidean_distance)\n",
        "\n",
        "  same_person_distance = np.asarray(same_person_distance)\n",
        "  same_person_cosine_distance = np.asarray(same_person_cosine_distance)\n",
        "  same_person_euclidean_distance = np.asarray(same_person_euclidean_distance)\n",
        "\n",
        "  #saving same person distances\n",
        "  f1 = \"threshold\\ and\\ distances/same_person_distance_\"+str(epochs)+\"model.npy\"\n",
        "  f2 = \"threshold\\ and\\ distances/same_person_cosine_distance_\"+str(epochs)+\"model.npy\"\n",
        "  f3 = \"threshold\\ and\\ distances/same_person_euclidean_distance_\"+str(epochs)+\"model.npy\"\n",
        "  if nor==True:\n",
        "    f1 = \"threshold\\ and\\ distances/same_person_normalized_distance_\"+str(epochs)+\"model.npy\"\n",
        "    f2 = \"threshold\\ and\\ distances/same_person_normalized_cosine_distance_\"+str(epochs)+\"model.npy\"\n",
        "    f3 = \"threshold\\ and\\ distances/same_person_normalized_euclidean_distance_\"+str(epochs)+\"model.npy\"\n",
        "  np.save(f1,same_person_distance)\n",
        "  np.save(f2,same_person_cosine_distance)\n",
        "  np.save(f3,same_person_euclidean_distance)\n",
        "  \n",
        "  same_person_distance_mean = np.mean(same_person_distance)\n",
        "  same_person_cosine_distance_mean = np.mean(same_person_cosine_distance)\n",
        "  same_person_euclidean_distance_mean = np.mean(same_person_euclidean_distance)\n",
        "\n",
        "  diff_person_distance = []\n",
        "  diff_person_cosine_distance = []\n",
        "  diff_person_euclidean_distance = []\n",
        "  for clas in range(hypar.num_classes):\n",
        "      for c in range(clas+1,hypar.num_classes):\n",
        "          for i in range(len(index[clas])):\n",
        "              for j in range(len(index[c])):\n",
        "                  distance,cosine_distance,euclidean_distance = get_distance(embeddings[index[clas][i]],embeddings[index[c][j]])\n",
        "                  diff_person_distance.append(distance)\n",
        "                  diff_person_cosine_distance.append(cosine_distance)\n",
        "\n",
        "                  diff_person_euclidean_distance.append(euclidean_distance)\n",
        "\n",
        "  diff_person_distance = np.asarray(diff_person_distance)\n",
        "  diff_person_cosine_distance = np.asarray(diff_person_cosine_distance)\n",
        "  diff_person_euclidean_distance = np.asarray(diff_person_euclidean_distance)\n",
        "\n",
        "  #saving different person distances\n",
        "  f1 = \"threshold\\ and\\ distances/diff_person_distance_\"+str(epochs)+\"model.npy\"\n",
        "  f2 = \"threshold\\ and\\ distances/diff_person_cosine_distance_\"+str(epochs)+\"model.npy\"\n",
        "  f3 = \"threshold\\ and\\ distances/diff_person_euclidean_distance_\"+str(epochs)+\"model.npy\"\n",
        "  if nor==True:\n",
        "    f1 = \"threshold\\ and\\ distances/diff_person_normalized_distance_\"+str(epochs)+\"model.npy\"\n",
        "    f2 = \"threshold\\ and\\ distances/diff_person_normalized_cosine_distance_\"+str(epochs)+\"model.npy\"\n",
        "    f3 = \"threshold\\ and\\ distances/diff_person_normalized_euclidean_distance_\"+str(epochs)+\"model.npy\"\n",
        "  np.save(f1,diff_person_distance)\n",
        "  np.save(f2,diff_person_cosine_distance)\n",
        "  np.save(f3,diff_person_euclidean_distance)\n",
        "\n",
        "  diff_person_distance_mean = np.mean(diff_person_distance)\n",
        "  diff_person_cosine_distance_mean = np.mean(diff_person_cosine_distance)\n",
        "  diff_person_euclidean_distance_mean = np.mean(diff_person_euclidean_distance)\n",
        "\n",
        "  alpha=0.8\n",
        "  distance_threshold = diff_person_distance_mean*(1-alpha)+same_person_distance_mean*alpha\n",
        "  cosine_distance_threshold = diff_person_cosine_distance_mean*(1-alpha)+same_person_cosine_distance_mean*alpha\n",
        "  euclidean_distance_threshold = diff_person_euclidean_distance_mean*(1-alpha)+same_person_euclidean_distance_mean*alpha\n",
        "  return distance_threshold, cosine_distance_threshold, euclidean_distance_threshold, same_person_distance_mean, same_person_cosine_distance_mean, same_person_euclidean_distance_mean, diff_person_distance_mean, diff_person_cosine_distance_mean, diff_person_euclidean_distance_mean"
      ]
    },
    {
      "cell_type": "code",
      "execution_count": 6,
      "metadata": {
        "id": "Rbj9bWfHnysW"
      },
      "outputs": [],
      "source": [
        "def recognise(img,face_imgs_database,face_embedding_database,face_names_database):\n",
        "  \"\"\"\n",
        "  img: numpy array of dims (112,112,3) of image of face to be recognised\n",
        "  face_imgs_database: numpy array of dims (num_of_faces,512)\n",
        "  face_names_database: dictionary of form {index_of_face:\"name_of_person\"} comprising of names of faces in face_imgs_database array\n",
        "    \n",
        "  recognise: returns the name and face of the closest match in the database\n",
        "  \"\"\"\n",
        "  img_embedding = get_embeddings(img)\n",
        "  best_match_index = []\n",
        "  best_distance = float('-inf')\n",
        "  for i in range(int(face_embedding_database.shape[0])):\n",
        "    distance,cosine_distance,euclidean_distance = get_distance(img_embedding,face_embedding_database[i])\n",
        "    if distance>best_distance:\n",
        "      best_distance = distance\n",
        "      best_match_index = [i]\n",
        "    elif distance==best_distance:\n",
        "      best_match_index.append(i)\n",
        "\n",
        "  names = []\n",
        "  faces = []\n",
        "  for i in best_match_index:\n",
        "    names.append(face_names_database[i])\n",
        "    faces.append(face_imgs_database[i])\n",
        "    \n",
        "  return names,faces"
      ]
    },
    {
      "cell_type": "code",
      "execution_count": 7,
      "metadata": {
        "id": "AQ7mPjJBnzYx"
      },
      "outputs": [],
      "source": [
        "def verify(img,face):\n",
        "  \"\"\"\n",
        "  img: numpy array of dims (112,112,3) of image of face to be verified\n",
        "  face: image of face of person to be verified with\n",
        "    \n",
        "  verify: returns boolean if the faces match or not\n",
        "  \"\"\"\n",
        "  img_embedding = get_embeddings(img)\n",
        "  face_embedding = get_embeddings(face)\n",
        "  distance,cosine_distance,euclidean_distance = get_distance(img_embedding,face_embedding)\n",
        "  if distance>threshold:\n",
        "    return True\n",
        "  return False"
      ]
    },
    {
      "cell_type": "markdown",
      "metadata": {
        "id": "c2X4Z41Tpxqy"
      },
      "source": [
        "#Importing Train data"
      ]
    },
    {
      "cell_type": "code",
      "execution_count": 9,
      "metadata": {
        "colab": {
          "base_uri": "https://localhost:8080/"
        },
        "id": "Yf8NNGmspw9N",
        "outputId": "da95ade9-f4d8-4ef4-e7e2-19b20cbcb347"
      },
      "outputs": [
        {
          "name": "stdout",
          "output_type": "stream",
          "text": [
            "X shape: (1476, 112, 112, 3) Y shape: (1476,)\n",
            "Training data ready!\n"
          ]
        }
      ],
      "source": [
        "X = np.load('datasets/x_train.npy', allow_pickle=True)\n",
        "Y = np.load('datasets/y_train.npy', allow_pickle=True)\n",
        "X = np.array(X, dtype='float32')\n",
        "Y = np.array(Y, dtype='int32')\n",
        "Y = np.reshape(Y, Y.shape[0])\n",
        "print(\"X shape:\",X.shape,\"Y shape:\",Y.shape)\n",
        "X = net.Resnet_preprocess(X)\n",
        "print(\"Training data ready!\")"
      ]
    },
    {
      "cell_type": "code",
      "execution_count": 11,
      "metadata": {
        "colab": {
          "base_uri": "https://localhost:8080/",
          "height": 285
        },
        "id": "XCAC6__f6b1O",
        "outputId": "fc58daf6-08e5-413d-da82-21777f14fb57"
      },
      "outputs": [
        {
          "name": "stderr",
          "output_type": "stream",
          "text": [
            "Clipping input data to the valid range for imshow with RGB data ([0..1] for floats or [0..255] for integers).\n"
          ]
        },
        {
          "data": {
            "image/png": "[encoded data removed]",
            "text/plain": [
              "<Figure size 432x288 with 1 Axes>"
            ]
          },
          "metadata": {
            "needs_background": "light"
          },
          "output_type": "display_data"
        }
      ],
      "source": [
        "index = 139 # change index to view different image/person\n",
        "photo = cv2.cvtColor(X[index], cv2.COLOR_BGR2RGB)\n",
        "plt.imshow(photo/255)\n",
        "plt.show()"
      ]
    },
    {
      "cell_type": "markdown",
      "metadata": {
        "id": "folSh0WIHrB3"
      },
      "source": [
        "#Distance Plots"
      ]
    },
    {
      "cell_type": "code",
      "execution_count": 42,
      "metadata": {
        "colab": {
          "base_uri": "https://localhost:8080/"
        },
        "id": "utL4P3sAHqi8",
        "outputId": "a0e3d715-9d53-40d6-fbae-832a7f61dbf6"
      },
      "outputs": [
        {
          "name": "stdout",
          "output_type": "stream",
          "text": [
            "/content/drive/MyDrive/Arcface/checkpoint/try3/model_weights_300_epochs\n",
            "WARNING:tensorflow:No training configuration found in save file, so the model was *not* compiled. Compile it manually.\n",
            "(1476, 512)\n",
            "10891995.293750001 0.20158817674184765 657.1789916992187 13615643.0 0.0003950489919425283 576.5906 -2595.5312 1.0063606877414684 979.53265\n",
            "(1476, 512)\n",
            "1.3521550080447924 0.20147887157777183 0.27406898736953733 1.6902989 0.0004083976552116914 0.22754401 -0.0004206194 1.0057607672680127 0.4601689\n",
            "/content/drive/MyDrive/Arcface/checkpoint/try3/model_weights_550_epochs\n",
            "WARNING:tensorflow:No training configuration found in save file, so the model was *not* compiled. Compile it manually.\n",
            "(1476, 512)\n",
            "3738330.3488403326 0.2013977791572457 381.5714965820312 4673140.5 4.9238332470749186e-05 329.7935 -910.2558 1.0067919424563456 588.68353\n",
            "(1476, 512)\n",
            "1.3405931123066694 0.20128138111748645 0.2715644478797913 1.6758628 8.182810913039208e-05 0.22263972 -0.00048559508 1.0060795931509108 0.46726334\n",
            "/content/drive/MyDrive/Arcface/checkpoint/try3/model_weights_800_epochs\n",
            "WARNING:tensorflow:No training configuration found in save file, so the model was *not* compiled. Compile it manually.\n",
            "(1476, 512)\n",
            "4779097.0437988285 0.20139404120057536 423.8443237304688 5974137.5 2.023268356164696e-05 368.54517 -1064.781 1.0068892752686305 645.04095\n",
            "(1476, 512)\n",
            "1.3558931409323123 0.20127067615415584 0.26853479743003844 1.69498 4.606414229789266e-05 0.2215561 -0.0004543965 1.0061691242015878 0.4564496\n"
          ]
        }
      ],
      "source": [
        "d_threshold= []\n",
        "cd_threshold = []\n",
        "ed_threshold = []\n",
        "d_norm_threshold= []\n",
        "cd_norm_threshold = []\n",
        "ed_norm_threshold = []\n",
        "for file_number in [800]:\n",
        "  #loading model\n",
        "  file_name = 'models/model_weights_'\n",
        "  file_name = file_name + str(file_number)+ '_epochs'\n",
        "  print(file_name)\n",
        "  model = tf.keras.models.load_model(file_name)\n",
        "\n",
        "  #non-normalized\n",
        "  distance_threshold, cosine_distance_threshold, euclidean_distance_threshold, same_person_distance_mean, same_person_cosine_distance_mean, same_person_euclidean_distance_mean, diff_person_distance_mean, diff_person_cosine_distance_mean, diff_person_euclidean_distance_mean = calculate_threshold(X,Y,model,False,file_number)\n",
        "  print(distance_threshold, cosine_distance_threshold, euclidean_distance_threshold, same_person_distance_mean, same_person_cosine_distance_mean, same_person_euclidean_distance_mean, diff_person_distance_mean, diff_person_cosine_distance_mean, diff_person_euclidean_distance_mean)\n",
        "  d_threshold.append(distance_threshold)\n",
        "  cd_threshold.append(cosine_distance_threshold)\n",
        "  ed_threshold.append(euclidean_distance_threshold)\n",
        "\n",
        "  #normalized\n",
        "  distance_threshold, cosine_distance_threshold, euclidean_distance_threshold, same_person_distance_mean, same_person_cosine_distance_mean, same_person_euclidean_distance_mean, diff_person_distance_mean, diff_person_cosine_distance_mean, diff_person_euclidean_distance_mean = calculate_threshold(X,Y,model,True,file_number)\n",
        "  print(distance_threshold, cosine_distance_threshold, euclidean_distance_threshold, same_person_distance_mean, same_person_cosine_distance_mean, same_person_euclidean_distance_mean, diff_person_distance_mean, diff_person_cosine_distance_mean, diff_person_euclidean_distance_mean)\n",
        "  d_norm_threshold.append(distance_threshold)\n",
        "  cd_norm_threshold.append(cosine_distance_threshold)\n",
        "  ed_norm_threshold.append(euclidean_distance_threshold)"
      ]
    },
    {
      "cell_type": "code",
      "execution_count": 13,
      "metadata": {
        "colab": {
          "base_uri": "https://localhost:8080/"
        },
        "id": "1cXlUSJfDg_1",
        "outputId": "5ad1c651-c918-4aa6-9971-0f704ced1ca2"
      },
      "outputs": [
        {
          "name": "stdout",
          "output_type": "stream",
          "text": [
            "Model: \"train_model_1\"\n",
            "_________________________________________________________________\n",
            " Layer (type)                Output Shape              Param #   \n",
            "=================================================================\n",
            " sequential_1 (Sequential)   (None, 16)                40375696  \n",
            "                                                                 \n",
            " arcface__layer_1 (Arcface_L  multiple                 5232      \n",
            " ayer)                                                           \n",
            "                                                                 \n",
            "=================================================================\n",
            "Total params: 40,380,928\n",
            "Trainable params: 40,326,784\n",
            "Non-trainable params: 54,144\n",
            "_________________________________________________________________\n"
          ]
        }
      ],
      "source": [
        "model.summary()"
      ]
    },
    {
      "cell_type": "code",
      "execution_count": 14,
      "metadata": {
        "id": "xNwuESbYEVQt"
      },
      "outputs": [],
      "source": [
        "test_model = model.resnet"
      ]
    },
    {
      "cell_type": "code",
      "execution_count": 15,
      "metadata": {
        "colab": {
          "base_uri": "https://localhost:8080/"
        },
        "id": "aDQutF9DEo1f",
        "outputId": "8e0b4437-2e6e-4819-9909-73bd656d4f2b"
      },
      "outputs": [
        {
          "name": "stdout",
          "output_type": "stream",
          "text": [
            "Model: \"sequential_1\"\n",
            "_________________________________________________________________\n",
            " Layer (type)                Output Shape              Param #   \n",
            "=================================================================\n",
            " resnet50 (Functional)       (None, 4, 4, 2048)        23587712  \n",
            "                                                                 \n",
            " flatten_1 (Flatten)         (None, 32768)             0         \n",
            "                                                                 \n",
            " dense_2 (Dense)             (None, 512)               16777728  \n",
            "                                                                 \n",
            " batch_normalization_1 (Batc  (None, 512)              2048      \n",
            " hNormalization)                                                 \n",
            "                                                                 \n",
            " dense_3 (Dense)             (None, 16)                8208      \n",
            "                                                                 \n",
            "=================================================================\n",
            "Total params: 40,375,696\n",
            "Trainable params: 40,321,552\n",
            "Non-trainable params: 54,144\n",
            "_________________________________________________________________\n"
          ]
        }
      ],
      "source": [
        "test_model.summary()"
      ]
    },
    {
      "cell_type": "code",
      "execution_count": null,
      "metadata": {},
      "outputs": [],
      "source": [
        "epochs = 800\n",
        "\n",
        "#loading data\n",
        "f1 = \"threshold\\ and\\ distances/same_person_distance_\"+str(epochs)+\"model.npy\"\n",
        "f2 = \"threshold\\ and\\ distances/same_person_cosine_distance_\"+str(epochs)+\"model.npy\"\n",
        "f3 = \"threshold\\ and\\ distances/same_person_euclidean_distance_\"+str(epochs)+\"model.npy\"\n",
        "\n",
        "same_person_distance = np.load(f1)\n",
        "same_person_cosine_distance = np.load(f2)\n",
        "same_person_euclidean_distance = np.load(f3)\n",
        "\n",
        "f1 = \"threshold\\ and\\ distances/same_person_normalized_distance_\"+str(epochs)+\"model.npy\"\n",
        "f2 = \"threshold\\ and\\ distances/same_person_normalized_cosine_distance_\"+str(epochs)+\"model.npy\"\n",
        "f3 = \"threshold\\ and\\ distances/same_person_normalized_euclidean_distance_\"+str(epochs)+\"model.npy\"\n",
        "\n",
        "same_person_norm_distance = np.load(f1)\n",
        "same_person_norm_cosine_distance = np.load(f2)\n",
        "same_person_norm_euclidean_distance = np.load(f3)\n",
        "\n",
        "f1 = \"threshold\\ and\\ distances/diff_person_distance_\"+str(epochs)+\"model.npy\"\n",
        "f2 = \"threshold\\ and\\ distances/diff_person_cosine_distance_\"+str(epochs)+\"model.npy\"\n",
        "f3 = \"threshold\\ and\\ distances/diff_person_euclidean_distance_\"+str(epochs)+\"model.npy\"\n",
        "\n",
        "diff_person_distance = np.load(f1)\n",
        "diff_person_cosine_distance = np.load(f2)\n",
        "diff_person_euclidean_distance = np.load(f3)\n",
        "\n",
        "f1 = \"threshold\\ and\\ distances/diff_person_normalized_distance_\"+str(epochs)+\"model.npy\"\n",
        "f2 = \"threshold\\ and\\ distances/diff_person_normalized_cosine_distance_\"+str(epochs)+\"model.npy\"\n",
        "f3 = \"threshold\\ and\\ distances/diff_person_normalized_euclidean_distance_\"+str(epochs)+\"model.npy\"\n",
        "\n",
        "diff_person_norm_distance = np.load(f1)\n",
        "diff_person_norm_cosine_distance = np.load(f2)\n",
        "diff_person_norm_euclidean_distance = np.load(f3)\n",
        "\n",
        "#_____Creating scatter plots (same vs diff)_______\n",
        "def scatter_plot(same,diff,title,color1,color2):\n",
        "  plt.figure(figsize = (8,8))\n",
        "  al = np.ones((len(same)))\n",
        "  al2 = np.ones((len(diff)))\n",
        "  plt.scatter(al, same, color=color1, marker=\"*\")\n",
        "  plt.scatter(2*al2, diff, color=color2, marker=\".\")\n",
        "  plt.xlabel(\"Distance\")\n",
        "  plt.ylabel(\"Distance\")\n",
        "  plt.legend([\"same\",\"diff\"])\n",
        "  plt.title(title)\n",
        "  plt.show()\n",
        "\n",
        "#distance data\n",
        "scatter_plot(same_person_distance, diff_person_distance, \"Same vs Diff People: Distance Scatterplot\", \"blue\", \"red\")\n",
        "\n",
        "#normailzed distance data\n",
        "scatter_plot(same_person_norm_distance,diff_person_norm_distance,\"Same vs Diff People: Normalized Distance Scatterplot\", \"deepskyblue\", \"hotpink\")\n",
        "\n",
        "#cosine distance data\n",
        "scatter_plot(same_person_cosine_distance, diff_person_cosine_distance, \"Same vs Diff People: Cosine Distance Scatterplot\", \"green\", \"indigo\")\n",
        "\n",
        "#cosine normailzed distance data\n",
        "scatter_plot(same_person_norm_cosine_distance, diff_person_norm_cosine_distance, \"Same vs Diff People: Normalized Cosine Distance Scatterplot\", \"springgreen\", \"violet\")\n",
        "\n",
        "#euclidean distance data\n",
        "scatter_plot(same_person_euclidean_distance, diff_person_euclidean_distance, \"Same vs Diff People: Euclidean Distance Scatterplot\", \"blue\", \"red\")\n",
        "\n",
        "#euclidean normailzed distance data\n",
        "scatter_plot(same_person_norm_euclidean_distance, diff_person_norm_euclidean_distance, \"Same vs Diff People: Normalized Euclidean Distance Scatterplot\", \"deepskyblue\", \"hotpink\")"
      ]
    },
    {
      "cell_type": "markdown",
      "metadata": {
        "id": "QU_52qGzDu5H"
      },
      "source": [
        "#Embedding PCA Plots"
      ]
    },
    {
      "cell_type": "code",
      "execution_count": null,
      "metadata": {
        "id": "sZ-ukhy0V6cL"
      },
      "outputs": [],
      "source": [
        "#getting embedding from stored file\n",
        "epochs = 800\n",
        "num_f = 512\n",
        "file_name = \"threshold\\ and\\ distances/train_data_embeddings_\"+str(epochs)+\"model.npy\"\n",
        "norm_file_name = \"threshold\\ and\\ distances/train_data_normalized_embeddings_\"+str(epochs)+\"model.npy\"\n",
        "embeddings = np.load(file_name)\n",
        "norm_embeddings = np.load(norm_file_name)  \n",
        "\n",
        "pca = PCA(n_components=2)\n",
        "\n",
        "#getting image data, embeddings and normalized embeddings of 4 people\n",
        "index = [None] * hypar.num_classes\n",
        "ppl = [0,25,66,138]\n",
        "\n",
        "for clas in ppl:\n",
        "  index[clas] = []\n",
        "  for i in range (0,X.shape[0]):\n",
        "    if Y[i] == clas:\n",
        "      index[clas].append(i)\n",
        "\n",
        "ppl_emb = np.array(embeddings[index[ppl[0]][0]])\n",
        "ppl_emb = np.reshape(ppl_emb,(1,num_f))\n",
        "ppl_norm_emb = np.array(norm_embeddings[index[ppl[0]][0]])\n",
        "ppl_norm_emb = np.reshape(ppl_norm_emb,(1,num_f))\n",
        "ppl_targ = [ppl[0]]\n",
        "print(ppl_emb.shape, ppl_norm_emb.shape)\n",
        "for clas in ppl:\n",
        "  l = []\n",
        "  if clas==0:\n",
        "    l = list(range(1,len(index[clas])-1))\n",
        "  else:\n",
        "    l = list(range(len(index[clas])))\n",
        "  for i in l:\n",
        "    j = index[clas][i]\n",
        "    ppl_targ.append(clas)\n",
        "    em = np.reshape(embeddings[j],(1,num_f))\n",
        "    norm_em = np.reshape(norm_embeddings[j],(1,num_f))\n",
        "    ppl_emb = np.concatenate((ppl_emb,em),axis=0)\n",
        "    ppl_norm_emb = np.concatenate((ppl_norm_emb,norm_em),axis=0)\n",
        "\n",
        "df = pd.DataFrame(ppl_targ,columns=[\"person\"])\n",
        "print(ppl_emb.shape, ppl_norm_emb.shape)\n",
        "\n",
        "\n",
        "#embeddings PCA\n",
        "principalComponents = pca.fit_transform(ppl_emb)\n",
        "principalDf = pd.DataFrame(data = principalComponents , columns = ['feature 1', 'feature 2'])\n",
        "principalDf.head(5)\n",
        "fig = plt.figure(figsize = (8,8))\n",
        "ax = fig.add_subplot(1,1,1) \n",
        "ax.set_xlabel('feature 1', fontsize = 15)\n",
        "ax.set_ylabel('feature 2', fontsize = 15)\n",
        "ax.set_title(str(epochs)+' Epoch:_16 Embedding PCA', fontsize = 20)\n",
        "\n",
        "finalDf = pd.concat([principalDf, df['person']], axis = 1)\n",
        "\n",
        "targets = [\"Person\"+str(ppl[0]),\"Person\"+str(ppl[1]),\"Person \"+str(ppl[2]),\"Person \"+str(ppl[3])]\n",
        "colors = ['r', 'g', 'b', 'y']\n",
        "for target, color in zip(ppl,colors):\n",
        "    indicesToKeep = finalDf['person'] == target\n",
        "    ax.scatter(finalDf.loc[indicesToKeep, 'feature 1']\n",
        "               , finalDf.loc[indicesToKeep, 'feature 2']\n",
        "               , c = color\n",
        "               , s = 50)\n",
        "ax.legend(targets)\n",
        "ax.grid()\n",
        "\n",
        "#norm embeddings PCA\n",
        "principalComponents = pca.fit_transform(ppl_norm_emb)\n",
        "principalDf = pd.DataFrame(data = principalComponents , columns = ['feature 1', 'feature 2'])\n",
        "principalDf.head(5)\n",
        "fig = plt.figure(figsize = (8,8))\n",
        "ax = fig.add_subplot(1,1,1) \n",
        "ax.set_xlabel('feature 1', fontsize = 15)\n",
        "ax.set_ylabel('feature 2', fontsize = 15)\n",
        "ax.set_title(str(epochs)+' Epoch:_16 Norm Embedding PCA', fontsize = 20)\n",
        "\n",
        "finalDf = pd.concat([principalDf, df['person']], axis = 1)\n",
        "\n",
        "targets = [\"Person\"+str(ppl[0]),\"Person\"+str(ppl[1]),\"Person \"+str(ppl[2]),\"Person \"+str(ppl[3])]\n",
        "colors = ['r', 'g', 'b', 'y']\n",
        "for target, color in zip(ppl,colors):\n",
        "    indicesToKeep = finalDf['person'] == target\n",
        "    ax.scatter(finalDf.loc[indicesToKeep, 'feature 1']\n",
        "               , finalDf.loc[indicesToKeep, 'feature 2']\n",
        "               , c = color\n",
        "               , s = 50)\n",
        "ax.legend(targets)\n",
        "ax.grid()"
      ]
    }
  ],
  "metadata": {
    "colab": {
      "collapsed_sections": [],
      "name": "Arcface Visualizations.ipynb",
      "provenance": []
    },
    "kernelspec": {
      "display_name": "Python 3",
      "name": "python3"
    },
    "language_info": {
      "name": "python"
    }
  },
  "nbformat": 4,
  "nbformat_minor": 0
}
