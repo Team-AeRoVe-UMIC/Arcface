{
  "nbformat": 4,
  "nbformat_minor": 0,
  "metadata": {
    "colab": {
      "name": "get_distance() test.ipynb",
      "provenance": [],
      "collapsed_sections": []
    },
    "kernelspec": {
      "name": "python3",
      "display_name": "Python 3"
    },
    "language_info": {
      "name": "python"
    }
  },
  "cells": [
    {
      "cell_type": "code",
      "metadata": {
        "id": "3Md_SLUFb_um"
      },
      "source": [
        "import tensorflow as tf\n",
        "import math\n",
        "import time\n",
        "import numpy as np"
      ],
      "execution_count": 1,
      "outputs": []
    },
    {
      "cell_type": "code",
      "metadata": {
        "id": "B5LEhkdwb7M6"
      },
      "source": [
        "def get_distance(emb1,emb2):\n",
        "    \"\"\"\n",
        "    emb1 & emb2: are both 512 dimensional vectors from the trained resnet model\n",
        "\n",
        "    get_distance: returns dot_prod,cosine_distance,euclidean_distance\n",
        "    \"\"\"\n",
        "    dot_prod = np.sum(np.dot(emb1,emb2.T))\n",
        "\n",
        "    a = np.matmul(np.transpose(emb1), emb2)\n",
        "    b = np.sum(np.multiply(emb1, emb1))\n",
        "    c = np.sum(np.multiply(emb2, emb2))\n",
        "    cosine_distance = 1 - (a / (np.sqrt(b) * np.sqrt(c)))\n",
        "\n",
        "    euclidean_distance = emb1 - emb2\n",
        "    euclidean_distance = np.sum(np.multiply(euclidean_distance, euclidean_distance))\n",
        "    euclidean_distance = np.sqrt(euclidean_distance)\n",
        "\n",
        "    return dot_prod,cosine_distance,euclidean_distance"
      ],
      "execution_count": 4,
      "outputs": []
    },
    {
      "cell_type": "code",
      "metadata": {
        "colab": {
          "base_uri": "https://localhost:8080/"
        },
        "id": "j8PM3hIKcAbo",
        "outputId": "bc692630-acf2-4475-b9da-17cf5c27c99f"
      },
      "source": [
        "emb1 = np.random.rand(512)\n",
        "emb2 = np.random.rand(512)\n",
        "dot_prod,cosine_distance,euclidean_distance = get_distance(emb1,emb2)\n",
        "print(dot_prod,cosine_distance,euclidean_distance)"
      ],
      "execution_count": 13,
      "outputs": [
        {
          "output_type": "stream",
          "name": "stdout",
          "text": [
            "120.43735094930722 0.24276160391270774 8.787707024610185\n"
          ]
        }
      ]
    },
    {
      "cell_type": "code",
      "metadata": {
        "id": "KmDFESMJcbKp"
      },
      "source": [
        ""
      ],
      "execution_count": null,
      "outputs": []
    }
  ]
}